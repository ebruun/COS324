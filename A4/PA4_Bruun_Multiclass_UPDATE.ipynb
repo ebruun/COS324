{
 "cells": [
  {
   "cell_type": "markdown",
   "metadata": {},
   "source": [
    "## PA4 - Multiclass Learning\n",
    "\n",
    "In this exercise you are required to design, implement, train, and test multiclass learning algorithms for the [MNIST](http://yann.lecun.com/exdb/mnist) dataset of images and the [20 Newsgroups](http://qwone.com/~jason/20Newsgroups) dataset of text news data. You will explore two different approaches to multiclass learning: *Cross Entropy*, a general loss appropriate for multiple classes, and *One-vs-All*, a reduction scheme from binary classification."
   ]
  },
  {
   "cell_type": "code",
   "execution_count": 1,
   "metadata": {},
   "outputs": [],
   "source": [
    "# Make sure to have the packages numpy, scikit-learn, and Tensorflow\n",
    "# installed before starting the assignment\n",
    "\n",
    "# import numpy first\n",
    "import numpy as np"
   ]
  },
  {
   "cell_type": "markdown",
   "metadata": {},
   "source": [
    "## The Losses\n",
    "\n",
    "In the case of Cross Entropy, denoted in short as **CE**, the supervision for an example $\\mathbf{x}\\in\\mathbb{R}^d$  is, instead of a label\n",
    "$y\\in[k]\\stackrel{\\tiny \\mathsf{def}}{=}\\{1,\\ldots,k\\}$, a vector $\\mathbf{y}\\in\\Delta^k$ where\n",
    "$$\\Delta^k = \\big\\{\\mathbf{p}=(p_1,\\ldots,p_k)\\, \\big| \\, \\sum_i p_i = 1\n",
    "   \\mbox{ and } \\forall i: p_i \\geq 0 \\big\\} ~.$$\n",
    "$\\Delta^k$ is called the k$^{th}$ dimensional simplex and, informally speaking, it consists of all probability vectors in $\\mathbb{R}^k$. The CE loss for a target probability vector $\\mathbf{y}$ and predicted probability vector $\\mathbf{\\hat{y}}$ is defined as follows,\n",
    "   $$\\ell_{CE}(\\mathbf{y, \\hat{y}}) \\stackrel{\\tiny \\mathsf{def}}{=}\n",
    "     \\sum_{i=1}^k y[i] \\log\\left(\\frac{y[i]}{\\hat{y}[i]}\\right) ~ .$$\n",
    "We use the convention that $0\\log(0)\\stackrel{\\tiny \\mathsf{def}}{=} 0$. To obtain the vector $\\mathbf{\\hat{y}}$ we exponentiate the vector of predictions $\\mathbf{z} = W\\mathbf{x} \\in \\mathbb{R}^k$ where $\\mathbf{\\hat{y}}[i] = \\frac{\\exp({\\mathbf{z}[i]})}{Z}$ for all $i \\in [k]$ and $Z$ ensures that $\\mathbf{\\hat{y}}\\in \\Delta^k $.\n",
    "\n",
    "The One-vs-All, or **OvA**, approach instead uses $k$ logistic binary classifiers: the idea is to pick the label that has been *most confidently* chosen for the given example versus the rest. Formally, the loss can be expressed as follows. Given $(\\mathbf{x},y)\\in\\mathbb{R}^d\\times[k]$ let us define $\\mathbf{\\bar{y}}\\in\\{-1,1\\}^k$ as the vector of labels resulting from the multiclass reduction. That is, $\\mathbf{\\bar{y}}[y]=1$ and for all $j\\neq y$ we set $\\mathbf{\\bar{y}}[j]=-1$. Then the loss for $(\\mathbf{x},y)$, with $\\mathbf{z}$ defined as before, is\n",
    "$$\n",
    "\\ell_{OvA}(\\mathbf{\\bar{y}}, \\mathbf{z}) = \\sum_{j=1}^k \\log\\big(1+ e^{-\\mathbf{\\bar{y}}[j] \\, \\mathbf{z}[j]}\\big) ~ .\n",
    "$$\n",
    "\n",
    "ACT 1: Compute the value of $Z$ explicitly. Propose a method of computing $\\mathbf{\\hat{y}}$ from $\\mathbf{z}$ that is numerically stable."
   ]
  },
  {
   "cell_type": "markdown",
   "metadata": {},
   "source": [
    "###\n",
    "\n",
    "### ACT 1\n",
    "\n",
    "recall $\\mathbf{z} = W\\mathbf{x} \\in \\mathbb{R}^k$\n",
    "\n",
    "   $$ Z = \\sum_{i=1}^k e^{z[i]} $$\n",
    "   \n",
    "   $$ \\mathbf{\\hat{y}}[i] = \\frac{e^{\\mathbf{z}[i]}}{\\sum_{i=1}^k e^{\\mathbf{z}[i]}}$$\n",
    "   \n",
    "Two problems:\n",
    "\n",
    "(1) if all the z-values are <<0, then the summation in the denominator approaches zero. If underflow occurs, where they all get rounded to 0, this will cause an error when dividing by 0.\n",
    "\n",
    "(2) If a single z-value is >>0, the value will be rounded to infinity, overflow will occur\n",
    "\n",
    "Fix this problem by adding a scalar $(c = -max_i(\\mathbf{z}))$ to the z-vector. This does not change the actual calculation:\n",
    "\n",
    "$$ \\frac{e^{\\mathbf{z}[i] + c}}{\\sum_{i=1}^k e^{\\mathbf{z}[i] + c}} = \\frac{e^{\\mathbf{z}[i]}\\cdot e^c }{\\sum_{i=1}^k e^{\\mathbf{z}[i]} \\cdot e^c  }  $$\n",
    "\n",
    "By shifting the z-vector by its max value, it is guaranteed that at least one of the terms will now be 0. And that 0 is the largest number in the z-vector. This fixes the problems above:\n",
    "\n",
    "(1) If one term is 0, then e^0 = 1, and there will never be a 0 in the denominator.\n",
    "\n",
    "(2) Since the largest term is 0, there is no chance of an exceptionally large exponent overflowing.\n",
    "\n",
    "###\n"
   ]
  },
  {
   "cell_type": "markdown",
   "metadata": {},
   "source": [
    "Let $X \\in \\mathbb{R}^{n \\times d}$ be the given dataset and $\\mathbf{y} \\in [k]^n$ the corresponding labels. Construct one-hot vectors for each label to have a probability vector from $\\Delta^k$: the one-hot vector for the class $c \\in [k]$ if defined as $\\mathbf{1}_c \\in \\Delta^k$ which is a vector of zeros except for coordinate $c$ where it is $1$. For example, suppose $k=4$ and $c=2$, then $\\mathbf{1}_c$ is $(0, 1, 0, 0)$. When needed we will\n",
    "be smoothing the one-hot vectors for numerical purposes. The $\\epsilon$-smoothed one-hot vector for class $c$ is given by $(1-\\epsilon) \\mathbf{1}_c + \\epsilon \\mathbf{\\frac1k}$ where $\\mathbf{\\frac1k} \\in \\Delta^k$ is the uniform probability vector, namely $\\mathbf{\\frac1k} = (\\frac1k, \\frac1k, \\ldots, \\frac1k)$.\n",
    "\n",
    "ACT 2: Implement the `one_hot` function that given $\\mathbf{y} \\in [k]^n$ data of labels returns $Y \\in \\mathbb{R}^{n \\times k}$ matrix of one-hot vectors. **In the code, the labels $\\mathbf{y}$ are $0$-indexed, so you need to adjust accordingly.**"
   ]
  },
  {
   "cell_type": "code",
   "execution_count": 2,
   "metadata": {},
   "outputs": [],
   "source": [
    "# Given y vector of labels, return matrix Y whose i-th row is the one-hot vector of label y_i \n",
    "# If eps is not 0, then need to compute the smoothed one-hot vectors instead\n",
    "# If k is 0, then need to infer its value instead\n",
    "def one_hot(y, k=0, eps=0):\n",
    "    ### ACT 2\n",
    "    \n",
    "    if not k:\n",
    "        k = y.max()+1\n",
    "        \n",
    "    Y = np.zeros((y.size, k))\n",
    "    Y[np.arange(y.size),y] = 1\n",
    "\n",
    "    if eps: \n",
    "        Y_bool = Y!=0\n",
    "        Y[Y_bool] += -eps + eps/k\n",
    "        Y[~Y_bool] += eps/k\n",
    "   \n",
    "    return Y\n",
    "  \n",
    "\n",
    "#ASSERTS\n",
    "y_assert = np.array([3, 1, 0, 2, 1, 2])\n",
    "\n",
    "Y_out = one_hot(y_assert)\n",
    "assert(np.shape(Y_out) == (6,4))\n",
    "assert(Y_out[0][3] == 1)\n",
    "assert(sum(sum(Y_out)) == 6)\n",
    "\n",
    "Y_out = one_hot(y_assert, 0, 0.1)\n",
    "assert(Y_out[1][1] == 0.925)\n",
    "assert(sum(sum(Y_out)) == 6.0)\n",
    "\n",
    "Y_out = one_hot(y_assert, 10, 0.1)\n",
    "assert(np.shape(Y_out) == (6,10))\n",
    "assert(np.isclose(sum(sum(Y_out)),6.0))\n",
    "assert(Y_out[0][5] == 0.01)\n",
    "assert(Y_out[1][1] == 0.91)\n",
    "\n",
    "y_assert = np.array([0, 1, 2, 3, 4, 5, 6, 7, 8, 9, 0, 0, 1, 1, 1, 2, 2])\n",
    "Y_out = one_hot(y_assert,[], 0.1)"
   ]
  },
  {
   "cell_type": "markdown",
   "metadata": {},
   "source": [
    "You will first implement an abstract class for losses in general that has all the methods implemented except computing the loss value and the gradient. Then each of CE and OvA classes will implement their specific loss functions, and gradients separately. *Feel free to add your own methods to the class skeletons provided.*\n",
    "\n",
    "It is worth to note that label prediction in both cases is done by predicting the coordinate with the largest value in the vector $\\mathbf{z}$ as the label. In order to prevent the parameters from blowing up during training, we will implement methods `RowNorms` and `Project` to compute the norms of the rows of $W \\in \\mathbb{R}^{k \\times d}$ and their projections onto the sphere of radius $r$.\n",
    "\n",
    "ACT 3: Given a vector $\\mathbf{v} \\in \\mathbb{R}^d$, compute its projection onto the sphere $S_r = \\{ \\mathbf{u} \\in \\mathbb{R}^d \\, : \\, \\| \\mathbf{u} \\| \\leq r \\}$."
   ]
  },
  {
   "cell_type": "markdown",
   "metadata": {},
   "source": [
    "###\n",
    "\n",
    "### ACT 3\n",
    "\n",
    "if $ ||\\mathbf{v}|| > r $ then the projection on sphere is found when $\\mathbf{v}$ is projected onto $\\mathbf{u}$, which is a vector from the center to the surface of the sphere chosen to minimize $||\\mathbf{v} - \\mathbf{u}||$.\n",
    "\n",
    "This minimum is achieved by the vector that is in the same direction as $\\mathbf{v}$, hence the projection on the sphere is just a scaling of the ratios of these vectors.\n",
    "\n",
    "$$ \\mathbf{v}_{proj}= \\frac{r}{||\\mathbf{v}||} \\cdot \\mathbf{v} $$\n",
    "\n",
    "###"
   ]
  },
  {
   "cell_type": "code",
   "execution_count": 3,
   "metadata": {},
   "outputs": [],
   "source": [
    "import copy\n",
    "\n",
    "class GenericLoss:\n",
    "    def __init__(self, name=\"\", dims = [], W0 = []):\n",
    "        self.name = name\n",
    "        assert dims != [] or len(W0) != 0, 'Must set dims or W0'\n",
    "        \n",
    "        if len(W0) == 0:\n",
    "            self.W = np.zeros(dims)\n",
    "        else:\n",
    "            self.W = W0\n",
    "            \n",
    "        self.k, self.d = self.W.shape\n",
    "        \n",
    "        #Added variables\n",
    "        self.norms = np.zeros(self.k)\n",
    "\n",
    "    \n",
    "    # set the parameter matrix to the given W\n",
    "    def Set(self, W):\n",
    "        ### ACT 4\n",
    "        self.W = copy.deepcopy(W)\n",
    "    \n",
    "    # get the parameter matrix of the instance\n",
    "    def Get(self):\n",
    "        ### ACT 5\n",
    "        return self.W\n",
    "    \n",
    "    # update the parameter matrix by adding given dW\n",
    "    def Update(self, dW):\n",
    "        ### ACT 6\n",
    "        self.W += dW\n",
    "    \n",
    "    # compute the norms of the rows of the parameter matrix\n",
    "    def RowNorms(self):\n",
    "        ### ACT 7\n",
    "        return np.linalg.norm(self.W, axis=1)\n",
    "        \n",
    "    # compute the projection of each of the rows to the sphere of radius rad\n",
    "    def Project(self, rad):\n",
    "        ### ACT 8\n",
    "        norms = self.RowNorms()\n",
    "        \n",
    "        scale = rad/norms\n",
    "        scale = np.where(scale>1,1,scale)\n",
    "        \n",
    "        self.W = (self.W.T*scale).T\n",
    "\n",
    "    # compute the numerical predictions (z values) given a data matrix X\n",
    "    def Predict(self, X):\n",
    "        ### ACT 9\n",
    "        return np.dot(self.W,X.T).T\n",
    "\n",
    "    # compute the label predictions given a data matrix X\n",
    "    def PredictLabels(self, X):\n",
    "        ### ACT 10\n",
    "        zs = self.Predict(X) # Calculate z-values\n",
    "        return np.argmax(zs,axis=1)\n",
    "        \n",
    "    # compute the classification error given a data matrix X, and label vector y\n",
    "    def Error(self, X, y):\n",
    "        ### ACT 11\n",
    "        y_label_pred = self.PredictLabels(X)\n",
    "        \n",
    "        n = len(y)\n",
    "        n_true = np.count_nonzero(y == y_label_pred)\n",
    "        \n",
    "        return (n - n_true)/n\n",
    "        \n",
    "    def Loss(self, X, y):\n",
    "        pass\n",
    "    \n",
    "    def Gradient(self, X, y):\n",
    "        pass\n",
    "    \n",
    "### ASSERTS\n",
    "w = np.array([[1, 0, 0, 1], [2, 3, 1, 1], [1, 2, 2, 2]])\n",
    "L = GenericLoss(\"assert_test\",W0 = w)\n",
    "assert(np.all(L.W == w))\n",
    "L = GenericLoss(\"assert_test\",(3,4),[])\n",
    "\n",
    "#Set Function\n",
    "L.Set(w)\n",
    "assert(np.all(L.W == w))\n",
    "\n",
    "#Update Function\n",
    "L.Update(np.array([[0, 0, 1, 0], [0, 1, 1, 0], [0, 0, 0, 1]]))\n",
    "assert(L.W[0][2] == (w[0][2] + 1))\n",
    "\n",
    "#Norm Function\n",
    "L.Set(w)\n",
    "norms = L.RowNorms()\n",
    "assert(norms[0] == np.sqrt(2))\n",
    "\n",
    "L.Update(np.array([[0, 0, 1, 0], [0, 1, 1, 0], [0, 0, 0, 1]]))\n",
    "norms = L.RowNorms()\n",
    "assert(norms[1] == np.sqrt(25))\n",
    "\n",
    "#Project Function\n",
    "rad = 3.0\n",
    "L.Set(w)\n",
    "L.Project(rad)\n",
    "norms = L.RowNorms()\n",
    "assert(norms[0] == np.sqrt(2))\n",
    "assert(norms[1] == rad)\n",
    "\n",
    "#Predict Function\n",
    "L.Set(w)\n",
    "X = np.array([[1, 1, 1, 1], [0, 0, 1, 3]])\n",
    "zs = L.Predict(X)\n",
    "assert(np.shape(zs) == (2,3))\n",
    "assert(zs[0][0] == 2)\n",
    "\n",
    "#Predict Labels Function\n",
    "L.Set(w)\n",
    "X = np.array([[1, 1, 1, 2], [0, 0, 1, 3], [3, 0, -1, 1]])\n",
    "y_label_pred = L.PredictLabels(X)\n",
    "assert(y_label_pred[1] == 2)\n",
    "\n",
    "#Errors Function\n",
    "L.Set(w)\n",
    "X = np.array([[1, 1, 1, 2], [0, 0, 1, 3], [3, 0, -1, 1]])\n",
    "y = np.array([2,1,1])\n",
    "error = L.Error(X,y)\n",
    "assert(error == 1/3)\n",
    "\n",
    "\n",
    "del(L)\n"
   ]
  },
  {
   "cell_type": "markdown",
   "metadata": {},
   "source": [
    "To implement the specific losses, you simply need to compute the loss value itself given $X \\in \\mathbb{R}^{n \\times d}, \\mathbf{y} \\in [k]^n$ and the parameter matrix $W \\in \\mathbb{R}^{k \\times d}$ as well as the gradient of that loss with respect to $W$. Let us first express $\\ell^{\\mathsf{CE}}$ and $\\ell^{\\mathsf{OvA}}$ in terms of $X, \\mathbf{y}, W$.\n",
    "\n",
    "$$\\ell^{\\mathsf{CE}}(X, \\mathbf{y}, W) = \\frac{1}{n} \\sum_{i=1}^n \\ell_{CE}(\\mathbf{y}_i, \\hat{\\mathbf{y}}_i), \\quad \\ell^{\\mathsf{OvA}}(X, \\mathbf{y}, W) = \\frac{1}{n} \\sum_{i=1}^n \\ell_{OvA}(\\bar{\\mathbf{y}}_i, \\mathbf{z}_i) ~ .$$\n",
    "\n",
    "where for each $i \\in [n]$ the vectors $\\mathbf{y}_i$ are the rows of $Y =$ `one_hot`$(\\mathbf{y}) \\in \\mathbb{R}^{n \\times k}$, $\\bar{\\mathbf{y}}_i$ are the rows of $\\bar{Y} = (2Y - 1) \\in \\mathbb{R}^{n \\times k}$, $\\mathbf{z}_i$ are the rows of $\\mathbf{Z} = X W^{\\top} \\in \\mathbb{R}^{n \\times d}$, and $\\hat{\\mathbf{y}}_i = \\exp(\\mathbf{z}_i)/Z_i$ with $Z_i$ making sure $\\hat{\\mathbf{y}}_i \\in \\Delta^k$. The gradient computation can be done step-by-step using the chain rule."
   ]
  },
  {
   "cell_type": "markdown",
   "metadata": {},
   "source": [
    "ACT 12: Compute the gradient of $\\ell^{\\mathsf{CE}}$ w.r.t. $W$, given by $\\nabla_W \\ell^{\\mathsf{CE}}$.\n",
    "\n",
    "Hint: First, show for a single $\\mathbf{y}, \\mathbf{\\hat{y}}, \\mathbf{z}$ that $\\nabla_{\\mathbf{z}} \\ell_{CE}(\\mathbf{y}, \\mathbf{\\hat{y}}) = \\mathbf{\\hat{y}} - \\mathbf{y}$ (simplify the loss function explicitly in terms of $\\mathbf{z}$ to make things easier). Afterwards, denoting $\\hat{Y} \\in \\mathbb{R}^{n \\times k}$ the matrix with rows $\\mathbf{\\hat{y}}_i$ for all $i \\in [n]$, conclude that $\\nabla_W \\ell^{\\mathsf{CE}}(X, \\mathbf{y}, W) = \\frac1n (\\hat{Y} - Y)^{\\top} X$."
   ]
  },
  {
   "cell_type": "markdown",
   "metadata": {},
   "source": [
    "### ACT 12\n",
    "\n",
    "For a single example, the gradient is computed as shown below. express $\\mathbf{\\bar{y}}$ with respect to $\\mathbf{z}$. Find the derivatives based on the chain rule. \n",
    "\n",
    "   $$\\nabla_W \\ell_{\\mathsf{CE}} = \\frac{\\partial\\ell_{CE}(\\mathbf{y, z})}{\\partial\\mathbf{z}} \\cdot \\frac{\\partial\\mathbf{z}}{\\partial \\mathbf{W}} $$\n",
    "   \n",
    "In the following derivation, the summations and square brackets indicate performing the operation on every entry in the vector $\\in \\mathbb{R}^{k}$. The derivation is done assuming just one entry, but later this summation can be replaced with the vector form.\n",
    "\n",
    "Recall $$ \\mathbf{\\hat{y}}[i] = \\frac{e^{\\mathbf{z}[i]}}{\\sum_{i=1}^k e^{\\mathbf{z}[i]}}$$\n",
    "\n",
    "1st term:\n",
    "\n",
    "   $$\\ell_{CE}(\\mathbf{y, \\hat{y}}) =\n",
    "     \\sum_{i=1}^k y[i] \\log\\left(\\frac{y[i]}{\\hat{y}[i]}\\right) = \\sum_{i=1}^k y[i] \\log\\left(\\frac{Z \\cdot y[i]}{e^{z[i]}}\\right) =  \\sum_{i=1}^k \\left(y[i]\\cdot log(Z y[i]) - y[i]\\cdot log(e^{z[i]}    \\right)$$\n",
    "     \n",
    "$$ \\frac{\\partial\\ell_{CE}(\\mathbf{y, z}[i])}{\\partial\\mathbf{z}[i]} = y[i] \\frac{e^{z[i]}}{y[i] \\cdot Z} - y[i] = \\hat{y}[i] - y[i]$$\n",
    "\n",
    "\n",
    "2nd term:\n",
    "\n",
    "$$ \\frac{\\partial z[i]}{\\partial W} = \\mathbf{X_i}$$\n",
    "   \n",
    "the $z[i]$ entry corresonds to $W_{i*}$ row times $\\mathbf{x}$ (the feature values in the example). Therefore, the partial over the whole $W \\in \\mathbb{R}^{k \\times d}$ corresponds to a matrix $\\mathbf{X}_i \\in \\mathbb{R}^{k x d}$. All terms in the matrix are 0, except row i, and this row is equal to the feature values in example $\\mathbf{x}$. This row is the same for each term in $z \\in \\mathbb{R}^{k}$.\n",
    "\n",
    "Putting it together (SINGLE EXAMPLE), results in a $\\mathbf{G} \\in \\mathbb{R}^{k\\times d}$ gradient matrix. The summation is replaced by an outer product. Assume that all the vectors are rows, so have to transpose the first operation (which is element-wise) to perform the outer product:\n",
    "\n",
    "$$ \\mathbf{G}  = \\nabla_W \\ell_{\\mathsf{CE}} = \\sum_{i=1}^k \\left(\\hat{y}[i] - y[i]\\right)\\cdot \\mathbf{X}_i$$\n",
    "\n",
    "$$ \\mathbf{G} = \\nabla_W \\ell_{\\mathsf{CE}} = \\left(\\mathbf{\\hat{y}}-\\mathbf{y}\\right)^T \\mathbf{x}$$\n",
    "\n",
    "Putting it together (ALL EXAMPLES):\n",
    "\n",
    "$$ \\mathbf{G_{avg}} = \\nabla_W \\ell^{\\mathsf{CE}} = \\frac{1}{n} \\sum_{i=1}^n \\left(\\mathbf{\\hat{y}}_i-\\mathbf{y}_i\\right)^T \\mathbf{x}_i$$\n"
   ]
  },
  {
   "cell_type": "markdown",
   "metadata": {},
   "source": [
    "########\n",
    "\n",
    "ACT 13: Compute the gradient of $\\ell^{\\mathsf{OvA}}$ w.r.t. $W$, given by $\\nabla_W \\ell^{\\mathsf{OvA}}$.\n",
    "\n",
    "Hint: First, show for a single $\\mathbf{\\bar{y}}, \\mathbf{z}$ that $\\nabla_{\\mathbf{z}} \\ell_{OvA}(\\mathbf{\\hat{y}}, \\mathbf{z}) = - \\frac{\\mathbf{\\hat{y}}}{1 + \\exp(\\mathbf{\\hat{y}} \\mathbf{z})}$ with all the operations in this expression being elementwise. Afterwards, conclude that $\\nabla_W \\ell^{\\mathsf{OvA}}(X, \\mathbf{y}, W) = - \\frac1n \\left( \\frac{\\bar{Y}}{1 + \\exp(\\bar{Y} \\mathbf{Z})} \\right)^{\\top} X$ again operations like multiplication, exponential division being elementwise."
   ]
  },
  {
   "cell_type": "markdown",
   "metadata": {},
   "source": [
    "### ACT 13\n",
    "\n",
    "For a single example, the gradient is computed as shown below. Find these three derivatives based on the chain rule.\n",
    "\n",
    "   $$\\nabla_W \\ell_{\\mathsf{OvA}} = \\frac{\\partial\\ell_{Ova}(\\mathbf{\\bar{y}, z})}{\\partial\\mathbf{z}} \\cdot \\frac{\\partial\\mathbf{z}}{\\partial \\mathbf{W}} $$\n",
    "   \n",
    "1st term:\n",
    "\n",
    "   $$ \\ell_{OvA}(\\mathbf{\\bar{y}}, \\mathbf{z}) = \\sum_{j=1}^k \\log\\big(1+ e^{-\\mathbf{\\bar{y}}[j] \\, \\mathbf{z}[j]}\\big) $$\n",
    "   \n",
    "   $$ \\frac{\\partial\\ell_{OvA}(\\mathbf{\\bar{y}}, \\mathbf{z})}{\\partial\\mathbf{z}[i]} = - \\frac{\\bar{y}[i] e^{-\\bar{y}[i] z[i]}}{1 + e^{-\\bar{y}[i] z[i]}} \\cdot \\frac{e^{\\bar{y}[i] z[i]}}{e^{\\bar{y}[i] z[i]}} =  - \\frac{\\bar{y}[i]}{1 + e^{\\bar{y}[i] z[i]}}$$\n",
    "   \n",
    "2nd term:\n",
    "\n",
    "$$ \\frac{\\partial z[i]}{\\partial W} = \\mathbf{X_i}$$\n",
    "   \n",
    "the $z[i]$ entry corresonds to $W_{i*}$ row times $\\mathbf{x}$ (the feature values in the example). Therefore, the partial over the whole $W \\in \\mathbb{R}^{k \\times d}$ corresponds to a matrix $\\mathbf{X}_i \\in \\mathbb{R}^{k x d}$. All terms in the matrix are 0, except row i, and this row is equal to the feature values in example $\\mathbf{x}$. This row is the same for each term in $z \\in \\mathbb{R}^{k}$.\n",
    "\n",
    "Putting it together (SINGLE EXAMPLE), results in a $\\mathbf{G} \\in \\mathbb{R}^{k\\times d}$ gradient matrix. The summation is replaced by an outer product. Assume that all the vectors are rows, so have to transpose the first operation (which is element-wise) to perform the outer product:\n",
    "\n",
    "\n",
    "$$ \\mathbf{G} = \\nabla_W \\ell_{\\mathsf{OvA}} = \\sum_{i=1}^k - \\frac{\\bar{y}[i]}{1 + e^{\\bar{y}[i] z[i]}} \\cdot \\mathbf{X}_i$$\n",
    "\n",
    "to simplify the expression $ \\frac{\\bar{y}[i]}{1 + e^{\\bar{y}[i] z[i]}} = \\mathbf{a}[i]$, in row-vector form. The summation is replaced by an outer product::\n",
    "\n",
    "$$ \\mathbf{G} =  \\nabla_W \\ell_{\\mathsf{OvA}} =-\\mathbf{a}^T \\mathbf{x} $$\n",
    "\n",
    "Putting it together (ALL EXAMPLES):\n",
    "\n",
    "$$ \\mathbf{G_{avg}} = \\nabla_W \\ell^{\\mathsf{OvA}} = \\frac{1}{n} \\sum_{i=1}^n -\\mathbf{a}^T_i \\mathbf{x}_i$$"
   ]
  },
  {
   "cell_type": "code",
   "execution_count": 4,
   "metadata": {},
   "outputs": [],
   "source": [
    "class CrossEntropy(GenericLoss):\n",
    "\n",
    "    # In CE, the one-hot vectors should be smoothed with the given eps parameter.\n",
    "    def __init__(self, eps=1e-6, name=\"Cross Entropy\", dims = [], W0 = []):\n",
    "        super().__init__(name, dims, W0)\n",
    "        self.eps = eps\n",
    "        self.Y = []\n",
    "        self.y_hat = []\n",
    "        \n",
    "    # compute the CE loss as defined above.\n",
    "    def Loss(self, X, y):\n",
    "        ### ACT 14\n",
    "        self.Y = one_hot(y,[],self.eps)\n",
    "    \n",
    "        zs = self.Stabilize_z(X)\n",
    "        self.Calc_y_hat(zs)\n",
    "        \n",
    "        a = np.log(self.Y/self.y_hat)\n",
    "\n",
    "        loss = np.sum(self.Y*a,axis=1) #For each example, sum over each class\n",
    "        \n",
    "        return np.average(loss)\n",
    "        \n",
    "    # compute the gradient w.r.t. W as done in ACT 12.\n",
    "    def Gradient(self, X, y):\n",
    "        ### ACT 15\n",
    "        self.Y = one_hot(y,[],self.eps)\n",
    "        zs = self.Stabilize_z(X)\n",
    "        self.Calc_y_hat(zs)\n",
    "        \n",
    "        #n x k matrix of the first half of gradient calculation\n",
    "        a = self.y_hat - self.Y\n",
    "        \n",
    "        #outer product between (n x k) and (n x d) matrices. For a single example = k x d matrix gradient \n",
    "        #creates n x (k x d), 3D matrix, sum over axis = 0 to find total gradient = k x d\n",
    "        g = a[...,None]*X[:,None,:]\n",
    "        G = np.sum(g,axis=0)\n",
    "\n",
    "        return G/len(y)\n",
    "    \n",
    "    ###ADDITIONAL METHODS FOR CE####\n",
    "    # Update the z-vector as per ACT 1 (for each example)\n",
    "    def Stabilize_z(self,X):\n",
    "        zs = self.Predict(X) # Calc z-values\n",
    "        z_max = np.max(zs,axis=1)\n",
    "        \n",
    "        return zs-z_max.reshape(-1,1)\n",
    "    \n",
    "    # Calculate the y-prediction vector (for each example)\n",
    "    def Calc_y_hat(self,zs):\n",
    "        self.y_hat = np.exp(zs)\n",
    "        y_hat_sum = np.sum(self.y_hat, axis=1)\n",
    "        self.y_hat = self.y_hat/y_hat_sum.reshape(-1,1) \n",
    "    ###################################\n",
    "\n",
    "\n",
    "class LogisticOvA(GenericLoss):\n",
    "    \n",
    "    def __init__(self, name=\"One vs All\", dims = [], W0 = []):\n",
    "        super().__init__(name, dims, W0)\n",
    "        self.Y_bar = []\n",
    "    \n",
    "    # compute the OvA loss as defined above.\n",
    "    def Loss(self, X, y):\n",
    "        ### ACT 16\n",
    "        Y = one_hot(y,[],[])\n",
    "        self.Y_bar = (2*Y - 1)\n",
    "        \n",
    "        zs = self.Predict(X) # Calc z-values\n",
    "        \n",
    "        a = 1 + np.exp(-self.Y_bar*zs) \n",
    "        loss = np.sum(np.log(a),axis=1) #For each example, sum over each class\n",
    "        return np.average(loss)\n",
    "          \n",
    "    # compute the gradient w.r.t. W as done in ACT 13.\n",
    "    def Gradient(self, X, y):\n",
    "        ### ACT 17\n",
    "        Y = one_hot(y,[],[])\n",
    "        self.Y_bar = (2*Y - 1)\n",
    "        \n",
    "        zs = self.Predict(X) # Calc z-values\n",
    "        \n",
    "        a = -self.Y_bar/(1 + np.exp(self.Y_bar*zs))\n",
    "    \n",
    "        g = a[...,None]*X[:,None,:]\n",
    "\n",
    "        G = np.sum(g,axis=0)\n",
    "\n",
    "        return G/len(y)\n",
    "           \n",
    "        \n",
    "### ASSERTS\n",
    "w = np.array([[1, 0, 0, 1], [2, 3, 1, 1], [1, 2, 2, 2]])\n",
    "X = np.array([[1, 1, 1, 2], [0, 0, 1, 3], [3, 0, -1, 1],[1, 2, -1, 1], [-1, -1, 2, 1]])\n",
    "y = np.array([2,0,1,0,2])\n",
    "\n",
    "### FOR CE\n",
    "a = CrossEntropy(W0 = w)\n",
    "\n",
    "# Stabilize Function\n",
    "zs = a.Stabilize_z(X)\n",
    "assert(zs[0][2] == 0)\n",
    "assert(zs[2][2] == -3)\n",
    "\n",
    "# Calulate y_hat Function\n",
    "a.Calc_y_hat(zs)\n",
    "assert(np.isclose(a.y_hat[0][2] - 0.72973621, 0))\n",
    "assert(np.isclose(a.y_hat[1][1] - 0.01786798, 0))\n",
    "assert(np.sum(a.y_hat,axis=1)[0] == 1)\n",
    "\n",
    "# Loss Function\n",
    "avg_loss = a.Loss(X,y)\n",
    "assert(np.isclose(avg_loss - 2.323108536, 0))\n",
    "\n",
    "#Gradient function\n",
    "avg_grad = a.Gradient(X,y)\n",
    "assert(np.isclose(avg_grad[1][1] - 0.4325474492916192, 0))\n",
    "\n",
    "del(a)\n",
    "\n",
    "\n",
    "### FOR OvA\n",
    "a = LogisticOvA(W0 = w)\n",
    "a.Set(w)\n",
    "\n",
    "# Loss Function\n",
    "avg_loss = a.Loss(X,y)\n",
    "assert(np.isclose(avg_loss - 8.837594624, 0))\n",
    "\n",
    "#Gradient function\n",
    "avg_grad = a.Gradient(X,y)\n",
    "assert(np.isclose(avg_grad[2][2] - (-0.2082383533952), 0))\n",
    "\n",
    "del(a)"
   ]
  },
  {
   "cell_type": "markdown",
   "metadata": {},
   "source": [
    "After implementing the two loss classes, we will test them the following way:\n",
    "\n",
    "(i) the loss of random labels should be larger than the loss of the assigned labels (the result of `PredictLabels`);\n",
    "\n",
    "(ii) the gradient with random labels should have a bigger norm than that with the assigned labels;\n",
    "\n",
    "(iii) the gradient norm should decrease after a single small gradient step."
   ]
  },
  {
   "cell_type": "code",
   "execution_count": 5,
   "metadata": {},
   "outputs": [
    {
     "name": "stdout",
     "output_type": "stream",
     "text": [
      "CE Test Passed\n",
      "Logistic OvA Test Passed\n"
     ]
    }
   ],
   "source": [
    "# assert the 3 points above for the loss class given by loss_tested\n",
    "# after implementing make sure both CrossEntropy, LogisticOvA pass all tests\n",
    "def TestLoss(loss_tested):\n",
    "    n, d, k, tests = 100, 10, 7, 1000\n",
    "    test_loss = loss_tested(W0=[], dims=(k, d))\n",
    "    \n",
    "    # the number of tests is given by tests.\n",
    "    # for each test, generate random Gaussian matrices X, W of appropriate sizes.\n",
    "    for _ in range(tests):\n",
    "        X, W = np.random.randn(n, d), np.random.randn(k, d)\n",
    "        test_loss.Set(W)\n",
    "    \n",
    "        # assert that the loss value with the assigned labels y is smaller than that\n",
    "        # with labels uniformly random from the interval [0, k-1].\n",
    "        y, y_rand = test_loss.PredictLabels(X), np.random.randint(0, k, n)\n",
    "        \n",
    "        ##########\n",
    "        # To correct in the case where random generated y-labels happens to be missing one of the labels\n",
    "        labels,c = np.unique(y,return_counts=True) #ordered list of unique labels\n",
    "        if len(labels) < k:\n",
    "            miss = list(set(range(k)).difference(labels))\n",
    "            #print(\"In generated list, missing\",miss[0])\n",
    "            y[0] = miss[0]\n",
    "        ##############\n",
    "            \n",
    "        loss1 = test_loss.Loss(X,y)### ACT 18: loss value on X with assigned labels y\n",
    "        loss2 = test_loss.Loss(X,y_rand)### ACT 19: loss value on X with random labels y_rand\n",
    "        assert loss1 < loss2, \"Loss test failed (%f >= %f)\" % (loss1, loss2)\n",
    "    \n",
    "        # assert that the gradient norm with the assigned labels is smaller than that\n",
    "        # with labels uniformly random from the interval [0, k-1].\n",
    "        grad1 = test_loss.Gradient(X, y)\n",
    "        norm_grad1 = np.linalg.norm(test_loss.Gradient(X,y))### ACT 20: norm of the gradient with X and assigned labels y\n",
    "        norm_grad2 = np.linalg.norm(test_loss.Gradient(X,y_rand))### ACT 21: norm of the gradient with X and random labels y_rand\n",
    "        assert norm_grad1 < norm_grad2, \"Gradient norm test failed (%f >= %f)\" % (norm_grad1, norm_grad2)\n",
    "        \n",
    "        # assert that after making a single gradient step (in the opposite direction)\n",
    "        # the gradient norm decreases (choose a small step size).\n",
    "        test_loss.Update(-0.01 * grad1)\n",
    "        norm_grad3 = np.linalg.norm(test_loss.Gradient(X,y))### ACT 22: norm of the gradient with X and y after making a single gradient step\n",
    "        assert norm_grad3 < norm_grad1, \"Gradient step test failed (%f >= %f)\" % (norm_grad3, norm_grad1)\n",
    "    \n",
    "    return True\n",
    "\n",
    "LossTested = CrossEntropy\n",
    "if TestLoss(LossTested): print('CE Test Passed')\n",
    "    \n",
    "LossTested = LogisticOvA\n",
    "if TestLoss(LossTested): print('Logistic OvA Test Passed')"
   ]
  },
  {
   "cell_type": "markdown",
   "metadata": {},
   "source": [
    "Below are methods from previous assignments for data processing and training. No need to reimplement these."
   ]
  },
  {
   "cell_type": "markdown",
   "metadata": {},
   "source": [
    "# SGD SETUP"
   ]
  },
  {
   "cell_type": "code",
   "execution_count": 6,
   "metadata": {},
   "outputs": [],
   "source": [
    "# Sample a mini-batch w/ or w/o replacement\n",
    "from numpy.random import randint\n",
    "from numpy.random import permutation\n",
    "class IndexSampler:\n",
    "    def __init__(self, d):\n",
    "        self.d = d\n",
    "        self.prm = None\n",
    "    \n",
    "    def sample_new_index(self, replace=0):\n",
    "        if replace:\n",
    "            return randint(self.d)\n",
    "        \n",
    "        if self.prm is None:\n",
    "            self.prm = permutation(self.d)\n",
    "            self.head = 0\n",
    "        ind = self.prm[self.head]\n",
    "        self.head += 1\n",
    "        if self.head == self.d:\n",
    "            self.head = 0\n",
    "            self.prm = None\n",
    "        return ind"
   ]
  },
  {
   "cell_type": "code",
   "execution_count": 7,
   "metadata": {},
   "outputs": [],
   "source": [
    "# Create a vector of learning-rate values. Mode can be: 'fixed_t', 'linear_t', 'sqrt_t'\n",
    "# Internal shift_t parameter can/should be changed during experiments.\n",
    "def learning_rate_schedule(eta0, epochs, mode):\n",
    "    base_t = 10.0\n",
    "    if mode == 'fixed_t':\n",
    "        return eta0 * np.ones(epochs)\n",
    "    if mode == 'sqrt_t':\n",
    "        return eta0 * np.ones(epochs) / (base_t + np.sqrt(np.arange(epochs)))\n",
    "    if mode == 'linear_t':\n",
    "        return eta0 * np.ones(epochs) / (base_t + np.arange(epochs))\n",
    "    print('invalid mode for learning rate schedule: %s' % mode)\n",
    "    return []"
   ]
  },
  {
   "cell_type": "code",
   "execution_count": 8,
   "metadata": {},
   "outputs": [],
   "source": [
    "# SGD with general loss class. h is the handle defined above.\n",
    "def SGD(X, y, Loss, params):\n",
    "    h = params\n",
    "    pstr, rad, replace = h['pstr'], h['rad'], h['replace']\n",
    "    eta0, epochs, bs, lrmode = h['eta0'], h['epochs'], h['batch_size'], h['lr_mode']\n",
    "    eps = h['eps']\n",
    "    \n",
    "    n, d = X.shape\n",
    "    nbs = int(n / bs)\n",
    "    k = max(y) + 1\n",
    "    \n",
    "    ls = Loss(W0=[], dims=(k, d))\n",
    "    \n",
    "    eta_t = learning_rate_schedule(eta0, epochs, lrmode)\n",
    "    \n",
    "    losses = [ls.Loss(X, y)]\n",
    "    errors = [ls.Error(X, y)]\n",
    "    sampler = IndexSampler(nbs)\n",
    "    \n",
    "    for e in range(1, epochs * nbs):\n",
    "        head = sampler.sample_new_index(replace) * bs\n",
    "        Xt, yt = X[head:head + bs], y[head:head + bs]\n",
    "        gw = ls.Gradient(Xt, yt)\n",
    "        ls.Update(-eta_t[e // nbs] * gw)\n",
    "        \n",
    "        if rad > 0: ls.Project(rad)\n",
    "            \n",
    "        if e % nbs == 0:\n",
    "            losses.append(ls.Loss(X, y))\n",
    "            errors.append(ls.Error(X, y))\n",
    "            \n",
    "        if (e % (10*nbs)) == 0:\n",
    "            print(pstr.format(e // nbs, losses[-1], 100*errors[-1]))\n",
    "            \n",
    "        #if (losses[-2] - losses[-1]) / losses[-1] < eps: break\n",
    "    return ls, losses, errors"
   ]
  },
  {
   "cell_type": "markdown",
   "metadata": {},
   "source": [
    "# MNIST\n",
    "## Data Processing"
   ]
  },
  {
   "cell_type": "code",
   "execution_count": 9,
   "metadata": {
    "scrolled": false
   },
   "outputs": [],
   "source": [
    "# import matplotlib and get the mnist dataset from tensorflow.keras\n",
    "import matplotlib.pyplot as plt\n",
    "from tensorflow.keras.datasets import mnist as keras_mnist\n",
    "(X_train, y_train), (X_test, y_test) = keras_mnist.load_data()"
   ]
  },
  {
   "cell_type": "code",
   "execution_count": 10,
   "metadata": {},
   "outputs": [],
   "source": [
    "# normalize the data by subtracting the mean and dividing by std\n",
    "def normalize(X, bias=0):\n",
    "    n, d = X.shape\n",
    "    m = np.mean(X, axis=1).reshape(n, 1) * np.ones((1, d))\n",
    "    s = np.std(X, axis=1).reshape(n, 1) * np.ones((1, d))\n",
    "    Xn = (X - m) / s\n",
    "    if bias != 0:\n",
    "        Xn = np.hstack((Xn, bias * np.ones((n, 1))))\n",
    "    return Xn\n",
    "\n",
    "# flatten the images into d-dimensional vectors for training\n",
    "def flatten_images(X):\n",
    "    s = X.shape\n",
    "    n = s[0]\n",
    "    d = np.prod(s[1:])\n",
    "    return X.reshape(n, d)\n",
    "\n",
    "Xtr = normalize(flatten_images(X_train), bias = 1)\n",
    "Xte = normalize(flatten_images(X_test), bias = 1)\n"
   ]
  },
  {
   "cell_type": "markdown",
   "metadata": {},
   "source": [
    "# MNIST\n",
    "## SGD with CrossEntropy"
   ]
  },
  {
   "cell_type": "code",
   "execution_count": 11,
   "metadata": {},
   "outputs": [
    {
     "name": "stdout",
     "output_type": "stream",
     "text": [
      "Epoch: 10  Loss: 0.285  Error: 7.930%\n",
      "Epoch: 20  Loss: 0.271  Error: 7.570%\n",
      "Epoch: 30  Loss: 0.263  Error: 7.342%\n",
      "Epoch: 40  Loss: 0.259  Error: 7.220%\n",
      "Epoch: 50  Loss: 0.255  Error: 7.040%\n",
      "Epoch: 60  Loss: 0.254  Error: 7.008%\n",
      "Epoch: 70  Loss: 0.251  Error: 6.882%\n",
      "Epoch: 80  Loss: 0.249  Error: 6.840%\n",
      "Epoch: 90  Loss: 0.247  Error: 6.788%\n",
      "Epoch: 100  Loss: 0.246  Error: 6.710%\n",
      "Epoch: 110  Loss: 0.245  Error: 6.660%\n",
      "Epoch: 120  Loss: 0.244  Error: 6.675%\n",
      "Epoch: 130  Loss: 0.243  Error: 6.645%\n",
      "Epoch: 140  Loss: 0.242  Error: 6.647%\n",
      "Epoch: 150  Loss: 0.241  Error: 6.588%\n",
      "Epoch: 160  Loss: 0.240  Error: 6.572%\n",
      "Epoch: 170  Loss: 0.239  Error: 6.537%\n",
      "Epoch: 180  Loss: 0.239  Error: 6.515%\n",
      "Epoch: 190  Loss: 0.238  Error: 6.485%\n",
      "Epoch: 200  Loss: 0.237  Error: 6.477%\n",
      "Epoch: 210  Loss: 0.237  Error: 6.490%\n",
      "Epoch: 220  Loss: 0.237  Error: 6.483%\n",
      "Epoch: 230  Loss: 0.236  Error: 6.452%\n",
      "Epoch: 240  Loss: 0.235  Error: 6.445%\n",
      "Epoch: 250  Loss: 0.235  Error: 6.455%\n",
      "Epoch: 260  Loss: 0.235  Error: 6.480%\n",
      "Epoch: 270  Loss: 0.234  Error: 6.380%\n",
      "Epoch: 280  Loss: 0.234  Error: 6.397%\n",
      "Epoch: 290  Loss: 0.233  Error: 6.403%\n",
      "Epoch: 300  Loss: 0.233  Error: 6.390%\n",
      "Epoch: 310  Loss: 0.233  Error: 6.353%\n",
      "Epoch: 320  Loss: 0.232  Error: 6.393%\n",
      "Epoch: 330  Loss: 0.232  Error: 6.332%\n",
      "Epoch: 340  Loss: 0.232  Error: 6.345%\n",
      "Epoch: 350  Loss: 0.232  Error: 6.372%\n",
      "Epoch: 360  Loss: 0.231  Error: 6.348%\n",
      "Epoch: 370  Loss: 0.231  Error: 6.307%\n",
      "Epoch: 380  Loss: 0.230  Error: 6.313%\n",
      "Epoch: 390  Loss: 0.230  Error: 6.282%\n",
      "Epoch: 400  Loss: 0.231  Error: 6.335%\n",
      "Epoch: 410  Loss: 0.230  Error: 6.307%\n",
      "Epoch: 420  Loss: 0.229  Error: 6.288%\n",
      "Epoch: 430  Loss: 0.229  Error: 6.265%\n",
      "Epoch: 440  Loss: 0.229  Error: 6.277%\n",
      "Epoch: 450  Loss: 0.229  Error: 6.257%\n",
      "Epoch: 460  Loss: 0.229  Error: 6.257%\n",
      "Epoch: 470  Loss: 0.229  Error: 6.222%\n",
      "Epoch: 480  Loss: 0.229  Error: 6.257%\n",
      "Epoch: 490  Loss: 0.228  Error: 6.233%\n",
      "Epoch: 500  Loss: 0.228  Error: 6.243%\n",
      "This run took this many seconds : 686.053738919\n"
     ]
    }
   ],
   "source": [
    "### ACT 23\n",
    "# run SGD with CrossEntropy loss on the MNIST training data\n",
    "# batch size should be 1000, sampling with no replacement\n",
    "# number of epochs should be 500, sphere radius for W is 10.0\n",
    "# learning rate mode is sqrt_t with eta=1.0\n",
    "\n",
    "def prepare_sgd_handle():\n",
    "    h = dict()\n",
    "    h['pstr'] = 'Epoch: {0:2d}  Loss: {1:5.3f}  Error: {2:5.3f}%'\n",
    "    h['rad'] = 10.0\n",
    "    h['replace'] = 0\n",
    "    \n",
    "    h['eta0'] = 1\n",
    "    h['lr_mode'] = 'sqrt_t'\n",
    "    \n",
    "    h['epochs'] = 501\n",
    "    h['batch_size'] = 1000\n",
    " \n",
    "    h['eps'] = 0.001\n",
    "    return h\n",
    "\n",
    "\n",
    "import timeit\n",
    "starttime = timeit.default_timer()\n",
    "\n",
    "Loss = CrossEntropy\n",
    "[w_sgd, loss_sgd, error_sgd] = SGD(Xtr, y_train, Loss, prepare_sgd_handle() )\n",
    "\n",
    "print(\"This run took this many seconds :\", timeit.default_timer() - starttime)"
   ]
  },
  {
   "cell_type": "code",
   "execution_count": 12,
   "metadata": {},
   "outputs": [
    {
     "name": "stdout",
     "output_type": "stream",
     "text": [
      "Test  Loss: 0.264  Error: 7.250%\n"
     ]
    }
   ],
   "source": [
    "### ACT 24\n",
    "# compute test error and loss\n",
    "test_loss = []\n",
    "test_err = []\n",
    "\n",
    "pstr = 'Test  Loss: {0:5.3f}  Error: {1:5.3f}%'\n",
    "\n",
    "test_loss = w_sgd.Loss(Xte, y_test)\n",
    "test_err = w_sgd.Error(Xte, y_test)\n",
    "\n",
    "print(pstr.format(test_loss, 100*test_err))"
   ]
  },
  {
   "cell_type": "code",
   "execution_count": 13,
   "metadata": {},
   "outputs": [
    {
     "data": {
      "image/png": "[encoded data removed]",
      "text/plain": [
       "<Figure size 432x288 with 1 Axes>"
      ]
     },
     "metadata": {
      "needs_background": "light"
     },
     "output_type": "display_data"
    },
    {
     "data": {
      "image/png": "[encoded data removed]",
      "text/plain": [
       "<Figure size 432x288 with 1 Axes>"
      ]
     },
     "metadata": {
      "needs_background": "light"
     },
     "output_type": "display_data"
    }
   ],
   "source": [
    "### ACT 25\n",
    "# plot loss vs epochs, separately plot error vs epochs\n",
    "\n",
    "#SKIPPING INITIAL LOSS/ERROR, TO HAVE BETTER RESOLUTION\n",
    "\n",
    "plt.plot(range(1,len(loss_sgd)), loss_sgd[1:])\n",
    "_ = plt.xlabel('Epoch', fontsize=14)\n",
    "_ = plt.ylabel('Normalized Loss', fontsize=14)\n",
    "_ = plt.xticks(np.arange(0,501,50))\n",
    "\n",
    "plt.show()\n",
    "\n",
    "plt.plot(range(1,len(error_sgd)), np.asarray(error_sgd[1:])*100)\n",
    "_ = plt.xlabel('Epoch', fontsize=14)\n",
    "_ = plt.ylabel('% Error', fontsize=14)\n",
    "_ = plt.xticks(np.arange(0,501,50))\n",
    "plt.show()"
   ]
  },
  {
   "cell_type": "code",
   "execution_count": 14,
   "metadata": {},
   "outputs": [],
   "source": [
    "### ACT 26\n",
    "# using test data construct a confusion matrix C that is 10x10\n",
    "# C[i][j] indicates pct digit i was classified as j\n",
    "# assert that each digit is most likely to be correctly classified\n",
    "\n",
    "k = 10\n",
    "\n",
    "y_label_pred = w_sgd.PredictLabels(Xte)\n",
    "\n",
    "C = np.zeros((k,k))\n",
    "\n",
    "for y_true,y_pred in zip(y_test,y_label_pred):\n",
    "    C[y_true][y_pred] += 1\n",
    "\n",
    "assert np.array_equal(np.argmax(C, axis=1), np.arange(k))"
   ]
  },
  {
   "cell_type": "markdown",
   "metadata": {},
   "source": [
    "# MNIST\n",
    "## SGD with One vs. All"
   ]
  },
  {
   "cell_type": "code",
   "execution_count": 15,
   "metadata": {},
   "outputs": [
    {
     "name": "stdout",
     "output_type": "stream",
     "text": [
      "Epoch: 10  Loss: 0.739  Error: 9.172%\n",
      "Epoch: 20  Loss: 0.709  Error: 8.718%\n",
      "Epoch: 30  Loss: 0.693  Error: 8.498%\n",
      "Epoch: 40  Loss: 0.683  Error: 8.325%\n",
      "Epoch: 50  Loss: 0.675  Error: 8.110%\n",
      "Epoch: 60  Loss: 0.668  Error: 8.075%\n",
      "Epoch: 70  Loss: 0.663  Error: 7.992%\n",
      "Epoch: 80  Loss: 0.659  Error: 8.028%\n",
      "Epoch: 90  Loss: 0.655  Error: 7.983%\n",
      "Epoch: 100  Loss: 0.651  Error: 7.860%\n",
      "Epoch: 110  Loss: 0.647  Error: 7.860%\n",
      "Epoch: 120  Loss: 0.645  Error: 7.775%\n",
      "Epoch: 130  Loss: 0.644  Error: 7.815%\n",
      "Epoch: 140  Loss: 0.639  Error: 7.718%\n",
      "Epoch: 150  Loss: 0.637  Error: 7.677%\n",
      "Epoch: 160  Loss: 0.635  Error: 7.653%\n",
      "Epoch: 170  Loss: 0.633  Error: 7.633%\n",
      "Epoch: 180  Loss: 0.631  Error: 7.612%\n",
      "Epoch: 190  Loss: 0.630  Error: 7.570%\n",
      "Epoch: 200  Loss: 0.628  Error: 7.567%\n",
      "Epoch: 210  Loss: 0.627  Error: 7.558%\n",
      "Epoch: 220  Loss: 0.625  Error: 7.550%\n",
      "Epoch: 230  Loss: 0.624  Error: 7.543%\n",
      "Epoch: 240  Loss: 0.623  Error: 7.535%\n",
      "Epoch: 250  Loss: 0.621  Error: 7.460%\n",
      "Epoch: 260  Loss: 0.620  Error: 7.463%\n",
      "Epoch: 270  Loss: 0.618  Error: 7.450%\n",
      "Epoch: 280  Loss: 0.618  Error: 7.442%\n",
      "Epoch: 290  Loss: 0.616  Error: 7.403%\n",
      "Epoch: 300  Loss: 0.615  Error: 7.455%\n",
      "Epoch: 310  Loss: 0.614  Error: 7.423%\n",
      "Epoch: 320  Loss: 0.614  Error: 7.398%\n",
      "Epoch: 330  Loss: 0.613  Error: 7.397%\n",
      "Epoch: 340  Loss: 0.612  Error: 7.408%\n",
      "Epoch: 350  Loss: 0.612  Error: 7.420%\n",
      "Epoch: 360  Loss: 0.610  Error: 7.380%\n",
      "Epoch: 370  Loss: 0.609  Error: 7.397%\n",
      "Epoch: 380  Loss: 0.608  Error: 7.375%\n",
      "Epoch: 390  Loss: 0.609  Error: 7.410%\n",
      "Epoch: 400  Loss: 0.607  Error: 7.388%\n",
      "Epoch: 410  Loss: 0.606  Error: 7.347%\n",
      "Epoch: 420  Loss: 0.606  Error: 7.347%\n",
      "Epoch: 430  Loss: 0.605  Error: 7.320%\n",
      "Epoch: 440  Loss: 0.605  Error: 7.317%\n",
      "Epoch: 450  Loss: 0.604  Error: 7.317%\n",
      "Epoch: 460  Loss: 0.603  Error: 7.317%\n",
      "Epoch: 470  Loss: 0.603  Error: 7.352%\n",
      "Epoch: 480  Loss: 0.603  Error: 7.287%\n",
      "Epoch: 490  Loss: 0.602  Error: 7.303%\n",
      "Epoch: 500  Loss: 0.601  Error: 7.277%\n",
      "This run took this many seconds : 712.3283747700001\n"
     ]
    }
   ],
   "source": [
    "### ACT 27\n",
    "# perform ACT 23-25 with LogisticOvA instead of CrossEntropy\n",
    "# compare your results, conclude in 1 sentence\n",
    "\n",
    "starttime = timeit.default_timer()\n",
    "\n",
    "Loss = LogisticOvA\n",
    "[w_sgd, loss_sgd, error_sgd] = SGD(Xtr, y_train, Loss, prepare_sgd_handle() )\n",
    "\n",
    "print(\"This run took this many seconds :\", timeit.default_timer() - starttime)"
   ]
  },
  {
   "cell_type": "code",
   "execution_count": 16,
   "metadata": {},
   "outputs": [
    {
     "name": "stdout",
     "output_type": "stream",
     "text": [
      "Test  Loss: 0.630  Error: 7.910%\n"
     ]
    }
   ],
   "source": [
    "# compute test error and loss\n",
    "test_loss = []\n",
    "test_err = []\n",
    "\n",
    "pstr = 'Test  Loss: {0:5.3f}  Error: {1:5.3f}%'\n",
    "\n",
    "test_loss = w_sgd.Loss(Xte, y_test)\n",
    "test_err = w_sgd.Error(Xte, y_test)\n",
    "\n",
    "print(pstr.format(test_loss, 100*test_err))"
   ]
  },
  {
   "cell_type": "code",
   "execution_count": 17,
   "metadata": {},
   "outputs": [
    {
     "data": {
      "image/png": "[encoded data removed]",
      "text/plain": [
       "<Figure size 432x288 with 1 Axes>"
      ]
     },
     "metadata": {
      "needs_background": "light"
     },
     "output_type": "display_data"
    },
    {
     "data": {
      "image/png": "[encoded data removed]",
      "text/plain": [
       "<Figure size 432x288 with 1 Axes>"
      ]
     },
     "metadata": {
      "needs_background": "light"
     },
     "output_type": "display_data"
    }
   ],
   "source": [
    "# plot loss vs epochs, separately plot error vs epochs\n",
    "\n",
    "#SKIPPING INITIAL LOSS/ERROR, TO HAVE BETTER RESOLUTION\n",
    "\n",
    "plt.plot(range(1,len(loss_sgd)), loss_sgd[1:])\n",
    "_ = plt.xlabel('Epoch', fontsize=14)\n",
    "_ = plt.ylabel('Normalized Loss', fontsize=14)\n",
    "_ = plt.xticks(np.arange(0,501,50))\n",
    "\n",
    "plt.show()\n",
    "\n",
    "plt.plot(range(1,len(error_sgd)), np.asarray(error_sgd[1:])*100)\n",
    "_ = plt.xlabel('Epoch', fontsize=14)\n",
    "_ = plt.ylabel('% Error', fontsize=14)\n",
    "_ = plt.xticks(np.arange(0,501,50))\n",
    "plt.show()"
   ]
  },
  {
   "cell_type": "markdown",
   "metadata": {},
   "source": [
    "## Comment on results\n",
    "\n",
    "The results are similar, although CE has slightly better error on the training set (~1% better) after 500 epochs. Test loss is also better in CE."
   ]
  },
  {
   "cell_type": "markdown",
   "metadata": {},
   "source": [
    "# 20NEWSGROUPS\n",
    "## Data Processing"
   ]
  },
  {
   "cell_type": "code",
   "execution_count": 18,
   "metadata": {},
   "outputs": [],
   "source": [
    "# data processing for 20 newsgroups datasets already done for you.\n",
    "from sklearn.datasets import fetch_20newsgroups\n",
    "from collections import Counter\n",
    "\n",
    "def get_20newsgroups_data():\n",
    "    newsgroups_train = fetch_20newsgroups(subset='train')\n",
    "    newsgroups_test  = fetch_20newsgroups(subset='test')\n",
    "    return newsgroups_train, newsgroups_test\n",
    "\n",
    "def construct_vocabulary(data, vs):\n",
    "    vocab = Counter()\n",
    "    for text in data:\n",
    "        for word in text.split(' '):\n",
    "            vocab[word.lower()] += 1\n",
    "    word2index = dict(vocab.most_common(vs))\n",
    "    i = 0\n",
    "    for k in word2index.keys():\n",
    "        word2index[k] = i\n",
    "        i += 1\n",
    "    return word2index\n",
    "\n",
    "def text_to_vec(data, vocab):\n",
    "    def norm_rows(M):\n",
    "        return np.sqrt(np.sum(M * M, axis=1, keepdims=True))\n",
    "    def project_rows(M, r):\n",
    "        return M * np.minimum(r / norm_rows(M), 1.0)\n",
    "    n = len(data)\n",
    "    d = len(vocab)\n",
    "    X = np.zeros((n, d))\n",
    "    i = 0\n",
    "    for text in data:\n",
    "        for word in text.split(' '):\n",
    "            if word.lower() in vocab:\n",
    "                X[i, vocab[word.lower()]] += 1.0\n",
    "        i += 1\n",
    "    # Convert to log-frequencies and normalize to have ||X[i,*]||=1\n",
    "    X = project_rows(np.log(X + 1.0), 1.0)\n",
    "    return X"
   ]
  },
  {
   "cell_type": "code",
   "execution_count": 19,
   "metadata": {},
   "outputs": [],
   "source": [
    "vsize = 1000\n",
    "train, test = get_20newsgroups_data()\n",
    "vocab = construct_vocabulary(train.data, vsize)\n",
    "Xtr = text_to_vec(train.data, vocab)\n",
    "Xte = text_to_vec(test.data, vocab)\n",
    "y_train = train.target\n",
    "y_test = test.target"
   ]
  },
  {
   "cell_type": "markdown",
   "metadata": {},
   "source": [
    "# 20NEWSGROUPS\n",
    "## CE"
   ]
  },
  {
   "cell_type": "code",
   "execution_count": 20,
   "metadata": {},
   "outputs": [
    {
     "name": "stdout",
     "output_type": "stream",
     "text": [
      "Epoch: 10  Loss: 1.310  Error: 31.342%\n",
      "Epoch: 20  Loss: 1.056  Error: 26.056%\n",
      "Epoch: 30  Loss: 0.949  Error: 22.954%\n",
      "Epoch: 40  Loss: 0.919  Error: 21.186%\n",
      "Epoch: 50  Loss: 0.915  Error: 20.497%\n",
      "Epoch: 60  Loss: 0.911  Error: 19.869%\n",
      "Epoch: 70  Loss: 0.910  Error: 19.595%\n",
      "Epoch: 80  Loss: 0.909  Error: 19.242%\n",
      "Epoch: 90  Loss: 0.908  Error: 19.091%\n",
      "Epoch: 100  Loss: 0.908  Error: 19.118%\n",
      "Epoch: 110  Loss: 0.908  Error: 19.109%\n",
      "Epoch: 120  Loss: 0.908  Error: 18.888%\n",
      "Epoch: 130  Loss: 0.906  Error: 18.800%\n",
      "Epoch: 140  Loss: 0.908  Error: 18.906%\n",
      "Epoch: 150  Loss: 0.907  Error: 18.897%\n",
      "Epoch: 160  Loss: 0.907  Error: 18.658%\n",
      "Epoch: 170  Loss: 0.908  Error: 18.729%\n",
      "Epoch: 180  Loss: 0.907  Error: 18.764%\n",
      "Epoch: 190  Loss: 0.907  Error: 18.809%\n",
      "Epoch: 200  Loss: 0.907  Error: 18.632%\n",
      "Epoch: 210  Loss: 0.907  Error: 18.844%\n",
      "Epoch: 220  Loss: 0.907  Error: 18.791%\n",
      "Epoch: 230  Loss: 0.906  Error: 18.702%\n",
      "Epoch: 240  Loss: 0.906  Error: 18.552%\n",
      "Epoch: 250  Loss: 0.907  Error: 18.729%\n",
      "Epoch: 260  Loss: 0.907  Error: 18.764%\n",
      "Epoch: 270  Loss: 0.906  Error: 18.738%\n",
      "Epoch: 280  Loss: 0.906  Error: 18.588%\n",
      "Epoch: 290  Loss: 0.906  Error: 18.809%\n",
      "Epoch: 300  Loss: 0.907  Error: 18.658%\n",
      "Epoch: 310  Loss: 0.906  Error: 18.605%\n",
      "Epoch: 320  Loss: 0.907  Error: 18.588%\n",
      "Epoch: 330  Loss: 0.906  Error: 18.685%\n",
      "Epoch: 340  Loss: 0.907  Error: 18.773%\n",
      "Epoch: 350  Loss: 0.906  Error: 18.561%\n",
      "Epoch: 360  Loss: 0.907  Error: 18.614%\n",
      "Epoch: 370  Loss: 0.906  Error: 18.676%\n",
      "Epoch: 380  Loss: 0.906  Error: 18.605%\n",
      "Epoch: 390  Loss: 0.906  Error: 18.676%\n",
      "Epoch: 400  Loss: 0.906  Error: 18.641%\n",
      "Epoch: 410  Loss: 0.906  Error: 18.764%\n",
      "Epoch: 420  Loss: 0.906  Error: 18.649%\n",
      "Epoch: 430  Loss: 0.906  Error: 18.552%\n",
      "Epoch: 440  Loss: 0.907  Error: 18.649%\n",
      "Epoch: 450  Loss: 0.906  Error: 18.649%\n",
      "Epoch: 460  Loss: 0.906  Error: 18.641%\n",
      "Epoch: 470  Loss: 0.906  Error: 18.561%\n",
      "Epoch: 480  Loss: 0.906  Error: 18.711%\n",
      "Epoch: 490  Loss: 0.906  Error: 18.747%\n",
      "Epoch: 500  Loss: 0.906  Error: 18.570%\n",
      "This run took this many seconds : 626.3501355609999\n"
     ]
    }
   ],
   "source": [
    "# you will perform the same experiments with this dataset\n",
    "### ACT 28\n",
    "# perform ACT 23-27 for the 20newsgroups dataset\n",
    "# all parameters for training should be the same except:\n",
    "# we will start with a much larger learning rate eta=1000.0\n",
    "# and a sphere radius 40.0\n",
    "\n",
    "### ACT 23\n",
    "def prepare_sgd_handle():\n",
    "    h = dict()\n",
    "    h['pstr'] = 'Epoch: {0:2d}  Loss: {1:5.3f}  Error: {2:5.3f}%'\n",
    "    h['rad'] = 40.0\n",
    "    h['replace'] = 0\n",
    "    \n",
    "    h['eta0'] = 1000\n",
    "    h['lr_mode'] = 'sqrt_t'\n",
    "    \n",
    "    h['epochs'] = 501\n",
    "    h['batch_size'] = 1000\n",
    " \n",
    "    h['eps'] = 0.001\n",
    "    return h\n",
    "\n",
    "\n",
    "starttime = timeit.default_timer()\n",
    "\n",
    "Loss = CrossEntropy\n",
    "[w_sgd_ce, loss_sgd, error_sgd] = SGD(Xtr, y_train, Loss, prepare_sgd_handle() )\n",
    "\n",
    "print(\"This run took this many seconds :\", timeit.default_timer() - starttime)"
   ]
  },
  {
   "cell_type": "code",
   "execution_count": 23,
   "metadata": {},
   "outputs": [
    {
     "name": "stdout",
     "output_type": "stream",
     "text": [
      "Test  Loss: 1.503  Error: 43.309%\n"
     ]
    }
   ],
   "source": [
    "### ACT 24\n",
    "# compute test error and loss\n",
    "test_loss = []\n",
    "test_err = []\n",
    "\n",
    "pstr = 'Test  Loss: {0:5.3f}  Error: {1:5.3f}%'\n",
    "\n",
    "test_loss = w_sgd_ce.Loss(Xte, y_test)\n",
    "test_err = w_sgd_ce.Error(Xte, y_test)\n",
    "\n",
    "print(pstr.format(test_loss, 100*test_err))"
   ]
  },
  {
   "cell_type": "code",
   "execution_count": 24,
   "metadata": {},
   "outputs": [
    {
     "data": {
      "image/png": "[encoded data removed]",
      "text/plain": [
       "<Figure size 432x288 with 1 Axes>"
      ]
     },
     "metadata": {
      "needs_background": "light"
     },
     "output_type": "display_data"
    },
    {
     "data": {
      "image/png": "[encoded data removed]",
      "text/plain": [
       "<Figure size 432x288 with 1 Axes>"
      ]
     },
     "metadata": {
      "needs_background": "light"
     },
     "output_type": "display_data"
    }
   ],
   "source": [
    "### ACT 25\n",
    "# plot loss vs epochs, separately plot error vs epochs\n",
    "\n",
    "#SKIPPING INITIAL LOSS/ERROR, TO HAVE BETTER RESOLUTION\n",
    "\n",
    "plt.plot(range(1,len(loss_sgd)), loss_sgd[1:])\n",
    "_ = plt.xlabel('Epoch', fontsize=14)\n",
    "_ = plt.ylabel('Normalized Loss', fontsize=14)\n",
    "_ = plt.xticks(np.arange(0,501,50))\n",
    "plt.show()\n",
    "\n",
    "plt.plot(range(1,len(error_sgd)), np.asarray(error_sgd[1:])*100)\n",
    "_ = plt.xlabel('Epoch', fontsize=14)\n",
    "_ = plt.ylabel('% Error', fontsize=14)\n",
    "_ = plt.xticks(np.arange(0,501,50))\n",
    "plt.show()"
   ]
  },
  {
   "cell_type": "code",
   "execution_count": 26,
   "metadata": {},
   "outputs": [],
   "source": [
    "### ACT 26\n",
    "# using test data construct a confusion matrix C that is 10x10\n",
    "# C[i][j] indicates pct digit i was classified as j\n",
    "# assert that each digit is most likely to be correctly classified\n",
    "\n",
    "k = 20\n",
    "\n",
    "y_label_pred = w_sgd_ce.PredictLabels(Xte)\n",
    "\n",
    "C = np.zeros((k,k))\n",
    "\n",
    "for y_true,y_pred in zip(y_test,y_label_pred):\n",
    "    C[y_true][y_pred] += 1\n",
    "\n",
    "assert np.array_equal(np.argmax(C, axis=1), np.arange(k))"
   ]
  },
  {
   "cell_type": "markdown",
   "metadata": {},
   "source": [
    "# 20NEWSGROUPS\n",
    "## Logistic OvA"
   ]
  },
  {
   "cell_type": "code",
   "execution_count": 28,
   "metadata": {},
   "outputs": [
    {
     "name": "stdout",
     "output_type": "stream",
     "text": [
      "Epoch: 10  Loss: 2.251  Error: 31.492%\n",
      "Epoch: 20  Loss: 1.940  Error: 26.666%\n",
      "Epoch: 30  Loss: 1.849  Error: 24.112%\n",
      "Epoch: 40  Loss: 1.833  Error: 23.078%\n",
      "Epoch: 50  Loss: 1.830  Error: 22.424%\n",
      "Epoch: 60  Loss: 1.828  Error: 22.150%\n",
      "Epoch: 70  Loss: 1.828  Error: 21.831%\n",
      "Epoch: 80  Loss: 1.827  Error: 21.955%\n",
      "Epoch: 90  Loss: 1.829  Error: 21.796%\n",
      "Epoch: 100  Loss: 1.829  Error: 21.725%\n",
      "Epoch: 110  Loss: 1.827  Error: 21.655%\n",
      "Epoch: 120  Loss: 1.827  Error: 21.778%\n",
      "Epoch: 130  Loss: 1.827  Error: 21.911%\n",
      "Epoch: 140  Loss: 1.826  Error: 21.469%\n",
      "Epoch: 150  Loss: 1.826  Error: 21.602%\n",
      "Epoch: 160  Loss: 1.826  Error: 21.778%\n",
      "Epoch: 170  Loss: 1.827  Error: 21.646%\n",
      "Epoch: 180  Loss: 1.825  Error: 21.478%\n",
      "Epoch: 190  Loss: 1.826  Error: 21.610%\n",
      "Epoch: 200  Loss: 1.826  Error: 21.540%\n",
      "Epoch: 210  Loss: 1.825  Error: 21.425%\n",
      "Epoch: 220  Loss: 1.826  Error: 21.540%\n",
      "Epoch: 230  Loss: 1.825  Error: 21.557%\n",
      "Epoch: 240  Loss: 1.825  Error: 21.646%\n",
      "Epoch: 250  Loss: 1.824  Error: 21.301%\n",
      "Epoch: 260  Loss: 1.826  Error: 21.495%\n",
      "Epoch: 270  Loss: 1.826  Error: 21.495%\n",
      "Epoch: 280  Loss: 1.825  Error: 21.575%\n",
      "Epoch: 290  Loss: 1.825  Error: 21.495%\n",
      "Epoch: 300  Loss: 1.825  Error: 21.460%\n",
      "Epoch: 310  Loss: 1.826  Error: 21.628%\n",
      "Epoch: 320  Loss: 1.826  Error: 21.504%\n",
      "Epoch: 330  Loss: 1.825  Error: 21.478%\n",
      "Epoch: 340  Loss: 1.825  Error: 21.610%\n",
      "Epoch: 350  Loss: 1.825  Error: 21.372%\n",
      "Epoch: 360  Loss: 1.826  Error: 21.513%\n",
      "Epoch: 370  Loss: 1.826  Error: 21.557%\n",
      "Epoch: 380  Loss: 1.824  Error: 21.557%\n",
      "Epoch: 390  Loss: 1.825  Error: 21.372%\n",
      "Epoch: 400  Loss: 1.824  Error: 21.451%\n",
      "Epoch: 410  Loss: 1.825  Error: 21.655%\n",
      "Epoch: 420  Loss: 1.825  Error: 21.619%\n",
      "Epoch: 430  Loss: 1.824  Error: 21.442%\n",
      "Epoch: 440  Loss: 1.824  Error: 21.389%\n",
      "Epoch: 450  Loss: 1.825  Error: 21.575%\n",
      "Epoch: 460  Loss: 1.825  Error: 21.549%\n",
      "Epoch: 470  Loss: 1.825  Error: 21.646%\n",
      "Epoch: 480  Loss: 1.825  Error: 21.460%\n",
      "Epoch: 490  Loss: 1.825  Error: 21.637%\n",
      "Epoch: 500  Loss: 1.825  Error: 21.602%\n",
      "This run took this many seconds : 611.143288875\n"
     ]
    }
   ],
   "source": [
    "### ACT 27\n",
    "# perform ACT 23-25 with LogisticOvA instead of CrossEntropy\n",
    "# compare your results, conclude in 1 sentence\n",
    "\n",
    "starttime = timeit.default_timer()\n",
    "\n",
    "Loss = LogisticOvA\n",
    "[w_sgd_ova, loss_sgd, error_sgd] = SGD(Xtr, y_train, Loss, prepare_sgd_handle() )\n",
    "\n",
    "print(\"This run took this many seconds :\", timeit.default_timer() - starttime)"
   ]
  },
  {
   "cell_type": "code",
   "execution_count": 30,
   "metadata": {},
   "outputs": [
    {
     "name": "stdout",
     "output_type": "stream",
     "text": [
      "Test  Loss: 2.451  Error: 43.083%\n"
     ]
    }
   ],
   "source": [
    "# compute test error and loss\n",
    "test_loss = []\n",
    "test_err = []\n",
    "\n",
    "pstr = 'Test  Loss: {0:5.3f}  Error: {1:5.3f}%'\n",
    "\n",
    "test_loss = w_sgd_ova.Loss(Xte, y_test)\n",
    "test_err = w_sgd_ova.Error(Xte, y_test)\n",
    "\n",
    "print(pstr.format(test_loss, 100*test_err))"
   ]
  },
  {
   "cell_type": "code",
   "execution_count": 31,
   "metadata": {},
   "outputs": [
    {
     "data": {
      "image/png": "[encoded data removed]",
      "text/plain": [
       "<Figure size 432x288 with 1 Axes>"
      ]
     },
     "metadata": {
      "needs_background": "light"
     },
     "output_type": "display_data"
    },
    {
     "data": {
      "image/png": "[encoded data removed]",
      "text/plain": [
       "<Figure size 432x288 with 1 Axes>"
      ]
     },
     "metadata": {
      "needs_background": "light"
     },
     "output_type": "display_data"
    }
   ],
   "source": [
    "# plot loss vs epochs, separately plot error vs epochs\n",
    "\n",
    "#SKIPPING INITIAL LOSS/ERROR, TO HAVE BETTER RESOLUTION\n",
    "plt.plot(range(1,len(loss_sgd)), loss_sgd[1:])\n",
    "_ = plt.xlabel('Epoch', fontsize=14)\n",
    "_ = plt.ylabel('Normalized Loss', fontsize=14)\n",
    "_ = plt.xticks(np.arange(0,501,50))\n",
    "plt.show()\n",
    "\n",
    "plt.plot(range(1,len(error_sgd)), np.asarray(error_sgd[1:])*100)\n",
    "_ = plt.xlabel('Epoch', fontsize=14)\n",
    "_ = plt.ylabel('% Error', fontsize=14)\n",
    "_ = plt.xticks(np.arange(0,501,50))\n",
    "plt.show()"
   ]
  },
  {
   "cell_type": "code",
   "execution_count": 40,
   "metadata": {},
   "outputs": [
    {
     "name": "stdout",
     "output_type": "stream",
     "text": [
      "40.0 40.0\n",
      "2.7519201823675253e-15 5.0242958677880805e-15\n"
     ]
    }
   ],
   "source": [
    "### ACT 29\n",
    "# after training, testing, and plotting make sure to compute the\n",
    "# row norms of the final parameters (mean and std), and conclude \n",
    "# in one sentence whether the results were as you expected\n",
    "\n",
    "w_ce = np.linalg.norm(w_sgd_ce.W,axis = 1)\n",
    "w_ova = np.linalg.norm(w_sgd_ova.W,axis = 1)\n",
    "\n",
    "w_ce_avg = np.average(np.linalg.norm(w_sgd_ce.W,axis = 1))\n",
    "w_ova_avg = np.average(np.linalg.norm(w_sgd_ova.W,axis = 1))\n",
    "\n",
    "w_ce_std = np.std(np.linalg.norm(w_sgd_ce.W,axis = 1))\n",
    "w_ova_std = np.std(np.linalg.norm(w_sgd_ova.W,axis = 1))\n",
    "\n",
    "print(w_ce_avg, w_ova_avg)\n",
    "print(w_ce_std, w_ova_std)"
   ]
  },
  {
   "cell_type": "markdown",
   "metadata": {},
   "source": [
    "The average of the norms was 40 (std around 0), which means that all the rows of the weight matrix are at the maximum radius of the sphere that we set in the problem. I was expecting the norms to decrease below this threshold. Since they are not, it means our weights are still ending up outside the solution sphere we defined in the problem. Large norms are a sign of over-fitting, which is a statement also justified by the fact that the training error is much smaller than the test error."
   ]
  },
  {
   "cell_type": "code",
   "execution_count": null,
   "metadata": {},
   "outputs": [],
   "source": []
  }
 ],
 "metadata": {
  "kernelspec": {
   "display_name": "Python 3",
   "language": "python",
   "name": "python3"
  },
  "language_info": {
   "codemirror_mode": {
    "name": "ipython",
    "version": 3
   },
   "file_extension": ".py",
   "mimetype": "text/x-python",
   "name": "python",
   "nbconvert_exporter": "python",
   "pygments_lexer": "ipython3",
   "version": "3.7.4"
  }
 },
 "nbformat": 4,
 "nbformat_minor": 4
}
